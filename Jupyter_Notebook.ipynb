{
 "cells": [
  {
   "cell_type": "markdown",
   "metadata": {},
   "source": [
    "<center>\n",
    "    <img src=\"https://cf-courses-data.s3.us.cloud-object-storage.appdomain.cloud/IBMDeveloperSkillsNetwork-DS0105EN-SkillsNetwork/labs/Module2/images/SN_web_lightmode.png\" width=\"300\" alt=\"cognitiveclass.ai logo\">\n",
    "</center>\n"
   ]
  },
  {
   "cell_type": "markdown",
   "metadata": {},
   "source": [
    "#### Add your code below following the instructions given in the course\n"
   ]
  },
  {
   "cell_type": "markdown",
   "metadata": {},
   "source": [
    "Data science Quick Summary : A Jupyter Notebook"
   ]
  },
  {
   "cell_type": "markdown",
   "metadata": {},
   "source": [
    "Introduction : \n",
    "    This was made in partial fullfilment of the IBM Tools for data science course."
   ]
  },
  {
   "cell_type": "markdown",
   "metadata": {},
   "source": [
    "Some Languages used for Data Science :\n",
    "    1. Python : most widely used, thanks to its easy-to-understand syntax and many community-developed               libraries.\n",
    "    2. SQL : important for the processing and dealing with relational databases.\n",
    "    3. R : most favored for statistical analysis and visualization. "
   ]
  },
  {
   "cell_type": "markdown",
   "metadata": {},
   "source": [
    "Some commonly used libraries in python for data science :\n",
    "    1. Pandas : essential for dealing with files within code, especially excel/csv files.\n",
    "    2. Numpy and Matplotlib : Great for statistical analysis and data visualization, offering many dedicated         functions and excellent plotting abilities.\n",
    "    3. Sci-kit learn : code implementation of many machine learning algorithms such as naive bayes, decision         trees, etc."
   ]
  },
  {
   "cell_type": "markdown",
   "metadata": {},
   "source": [
    "Some tools for data science :\n",
    "    1. Jupyter Notebook.\n",
    "    2. Anaconda Spyder.\n",
    "    3. KNIME.\n",
    "    4. Tableau."
   ]
  },
  {
   "cell_type": "markdown",
   "metadata": {},
   "source": [
    "Arithmetic expression examples :\n",
    "    1. Addition (a+b)\n",
    "    2. Division (a/b)\n",
    "    3. Multiplication (a*b)"
   ]
  },
  {
   "cell_type": "code",
   "execution_count": null,
   "metadata": {},
   "outputs": [],
   "source": [
    "#these are some code examples of arithmatic expressions\n",
    "a = 3\n",
    "b = 4\n",
    "multiply = a*b\n",
    "addition = a+b"
   ]
  },
  {
   "cell_type": "code",
   "execution_count": 2,
   "metadata": {
    "tags": []
   },
   "outputs": [
    {
     "name": "stdout",
     "output_type": "stream",
     "text": [
      "1\n"
     ]
    }
   ],
   "source": [
    "minutes = 90\n",
    "hours = minutes//60\n",
    "print(hours)"
   ]
  },
  {
   "cell_type": "markdown",
   "metadata": {},
   "source": [
    "Objectives of this course are :\n",
    "Learning more about using tools for data science and having an introduction into the use of a number of them such as Jupyter and GITHUB."
   ]
  },
  {
   "cell_type": "markdown",
   "metadata": {},
   "source": [
    "Author : Lana Ghraibeh"
   ]
  }
 ],
 "metadata": {
  "kernelspec": {
   "display_name": "Python",
   "language": "python",
   "name": "conda-env-python-py"
  },
  "language_info": {
   "codemirror_mode": {
    "name": "ipython",
    "version": 3
   },
   "file_extension": ".py",
   "mimetype": "text/x-python",
   "name": "python",
   "nbconvert_exporter": "python",
   "pygments_lexer": "ipython3",
   "version": "3.7.12"
  }
 },
 "nbformat": 4,
 "nbformat_minor": 4
}
